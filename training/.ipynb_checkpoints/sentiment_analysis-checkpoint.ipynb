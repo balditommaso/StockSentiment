{
 "cells": [
  {
   "cell_type": "markdown",
   "id": "beaed3b0",
   "metadata": {},
   "source": [
    "# Sentiment Analysis\n",
    "\n",
    "In this notebook we will show how we build a model to give a polarity to the tweets\n",
    "which contains about famous comapany"
   ]
  },
  {
   "cell_type": "code",
   "execution_count": null,
   "id": "9ade0884",
   "metadata": {},
   "outputs": [],
   "source": [
    "from collections import Counter\n",
    "import numpy as np\n",
    "import pandas as pd\n",
    "from imblearn.datasets import make_imbalance\n",
    "from sklearn import metrics\n",
    "from sklearn.metrics import accuracy_score\n",
    "from sklearn.model_selection import train_test_split\n",
    "from sklearn.feature_extraction.text import CountVectorizer, TfidfTransformer\n",
    "from xgboost import XGBClassifier\n",
    "from sklearn.pipeline import Pipeline\n",
    "import re\n",
    "from langdetect import detect\n",
    "from bs4 import BeautifulSoup"
   ]
  },
  {
   "cell_type": "markdown",
   "id": "fc1a0006",
   "metadata": {},
   "source": [
    "We have two different dataset of financial tweets to train and test our model, one is downloaded from Kaggle, the other is composed by real tweest screaped from tweeter and where we have put the label of the class by hand.\n"
   ]
  },
  {
   "cell_type": "code",
   "execution_count": null,
   "id": "ec786d91",
   "metadata": {},
   "outputs": [],
   "source": [
    "kaggle_tweets = pd.read_csv('tweets_with_sentiment.csv')\n",
    "real_tweets = pd.read_json('../data')"
   ]
  }
 ],
 "metadata": {
  "kernelspec": {
   "display_name": "Python 3 (ipykernel)",
   "language": "python",
   "name": "python3"
  },
  "language_info": {
   "codemirror_mode": {
    "name": "ipython",
    "version": 3
   },
   "file_extension": ".py",
   "mimetype": "text/x-python",
   "name": "python",
   "nbconvert_exporter": "python",
   "pygments_lexer": "ipython3",
   "version": "3.10.0"
  }
 },
 "nbformat": 4,
 "nbformat_minor": 5
}
