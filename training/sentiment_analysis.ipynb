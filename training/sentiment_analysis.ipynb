{
 "cells": [
  {
   "cell_type": "markdown",
   "id": "beaed3b0",
   "metadata": {},
   "source": [
    "# Sentiment Analysis\n",
    "\n",
    "In this notebook we will show how we build a model to give a polarity to the tweets\n",
    "which contains about famous comapany"
   ]
  },
  {
   "cell_type": "code",
   "execution_count": 10,
   "id": "9ade0884",
   "metadata": {},
   "outputs": [
    {
     "ename": "XGBoostError",
     "evalue": "\nXGBoost Library (libxgboost.dylib) could not be loaded.\nLikely causes:\n  * OpenMP runtime is not installed\n    - vcomp140.dll or libgomp-1.dll for Windows\n    - libomp.dylib for Mac OSX\n    - libgomp.so for Linux and other UNIX-like OSes\n    Mac OSX users: Run `brew install libomp` to install OpenMP runtime.\n\n  * You are running 32-bit Python on a 64-bit OS\n\nError message(s): [\"dlopen(/Users/tom/.conda/envs/pythonProject/lib/python3.10/site-packages/xgboost/lib/libxgboost.dylib, 0x0006): Library not loaded: /usr/local/opt/libomp/lib/libomp.dylib\\n  Referenced from: /Users/tom/.conda/envs/pythonProject/lib/python3.10/site-packages/xgboost/lib/libxgboost.dylib\\n  Reason: tried: '/usr/local/opt/libomp/lib/libomp.dylib' (no such file), '/usr/local/lib/libomp.dylib' (no such file), '/usr/lib/libomp.dylib' (no such file)\"]\n",
     "output_type": "error",
     "traceback": [
      "\u001B[0;31m---------------------------------------------------------------------------\u001B[0m",
      "\u001B[0;31mXGBoostError\u001B[0m                              Traceback (most recent call last)",
      "Input \u001B[0;32mIn [10]\u001B[0m, in \u001B[0;36m<module>\u001B[0;34m\u001B[0m\n\u001B[1;32m      7\u001B[0m \u001B[38;5;28;01mfrom\u001B[39;00m \u001B[38;5;21;01msklearn\u001B[39;00m\u001B[38;5;21;01m.\u001B[39;00m\u001B[38;5;21;01mmodel_selection\u001B[39;00m \u001B[38;5;28;01mimport\u001B[39;00m train_test_split\n\u001B[1;32m      8\u001B[0m \u001B[38;5;28;01mfrom\u001B[39;00m \u001B[38;5;21;01msklearn\u001B[39;00m\u001B[38;5;21;01m.\u001B[39;00m\u001B[38;5;21;01mfeature_extraction\u001B[39;00m\u001B[38;5;21;01m.\u001B[39;00m\u001B[38;5;21;01mtext\u001B[39;00m \u001B[38;5;28;01mimport\u001B[39;00m CountVectorizer, TfidfTransformer\n\u001B[0;32m----> 9\u001B[0m \u001B[38;5;28;01mfrom\u001B[39;00m \u001B[38;5;21;01mxgboost\u001B[39;00m \u001B[38;5;28;01mimport\u001B[39;00m XGBClassifier\n\u001B[1;32m     10\u001B[0m \u001B[38;5;28;01mfrom\u001B[39;00m \u001B[38;5;21;01msklearn\u001B[39;00m\u001B[38;5;21;01m.\u001B[39;00m\u001B[38;5;21;01mpipeline\u001B[39;00m \u001B[38;5;28;01mimport\u001B[39;00m Pipeline\n\u001B[1;32m     11\u001B[0m \u001B[38;5;28;01mimport\u001B[39;00m \u001B[38;5;21;01mre\u001B[39;00m\n",
      "File \u001B[0;32m~/.conda/envs/pythonProject/lib/python3.10/site-packages/xgboost/__init__.py:9\u001B[0m, in \u001B[0;36m<module>\u001B[0;34m\u001B[0m\n\u001B[1;32m      2\u001B[0m \u001B[38;5;124;03m\"\"\"XGBoost: eXtreme Gradient Boosting library.\u001B[39;00m\n\u001B[1;32m      3\u001B[0m \n\u001B[1;32m      4\u001B[0m \u001B[38;5;124;03mContributors: https://github.com/dmlc/xgboost/blob/master/CONTRIBUTORS.md\u001B[39;00m\n\u001B[1;32m      5\u001B[0m \u001B[38;5;124;03m\"\"\"\u001B[39;00m\n\u001B[1;32m      7\u001B[0m \u001B[38;5;28;01mimport\u001B[39;00m \u001B[38;5;21;01mos\u001B[39;00m\n\u001B[0;32m----> 9\u001B[0m \u001B[38;5;28;01mfrom\u001B[39;00m \u001B[38;5;21;01m.\u001B[39;00m\u001B[38;5;21;01mcore\u001B[39;00m \u001B[38;5;28;01mimport\u001B[39;00m DMatrix, DeviceQuantileDMatrix, Booster, DataIter\n\u001B[1;32m     10\u001B[0m \u001B[38;5;28;01mfrom\u001B[39;00m \u001B[38;5;21;01m.\u001B[39;00m\u001B[38;5;21;01mtraining\u001B[39;00m \u001B[38;5;28;01mimport\u001B[39;00m train, cv\n\u001B[1;32m     11\u001B[0m \u001B[38;5;28;01mfrom\u001B[39;00m \u001B[38;5;21;01m.\u001B[39;00m \u001B[38;5;28;01mimport\u001B[39;00m rabit  \u001B[38;5;66;03m# noqa\u001B[39;00m\n",
      "File \u001B[0;32m~/.conda/envs/pythonProject/lib/python3.10/site-packages/xgboost/core.py:203\u001B[0m, in \u001B[0;36m<module>\u001B[0;34m\u001B[0m\n\u001B[1;32m    199\u001B[0m     \u001B[38;5;28;01mreturn\u001B[39;00m lib\n\u001B[1;32m    202\u001B[0m \u001B[38;5;66;03m# load the XGBoost library globally\u001B[39;00m\n\u001B[0;32m--> 203\u001B[0m _LIB \u001B[38;5;241m=\u001B[39m \u001B[43m_load_lib\u001B[49m\u001B[43m(\u001B[49m\u001B[43m)\u001B[49m\n\u001B[1;32m    206\u001B[0m \u001B[38;5;28;01mdef\u001B[39;00m \u001B[38;5;21m_check_call\u001B[39m(ret):\n\u001B[1;32m    207\u001B[0m     \u001B[38;5;124;03m\"\"\"Check the return value of C API call\u001B[39;00m\n\u001B[1;32m    208\u001B[0m \n\u001B[1;32m    209\u001B[0m \u001B[38;5;124;03m    This function will raise exception when error occurs.\u001B[39;00m\n\u001B[0;32m   (...)\u001B[0m\n\u001B[1;32m    215\u001B[0m \u001B[38;5;124;03m        return value from API calls\u001B[39;00m\n\u001B[1;32m    216\u001B[0m \u001B[38;5;124;03m    \"\"\"\u001B[39;00m\n",
      "File \u001B[0;32m~/.conda/envs/pythonProject/lib/python3.10/site-packages/xgboost/core.py:181\u001B[0m, in \u001B[0;36m_load_lib\u001B[0;34m()\u001B[0m\n\u001B[1;32m    179\u001B[0m     \u001B[38;5;28;01mif\u001B[39;00m \u001B[38;5;129;01mnot\u001B[39;00m lib_success:\n\u001B[1;32m    180\u001B[0m         libname \u001B[38;5;241m=\u001B[39m os\u001B[38;5;241m.\u001B[39mpath\u001B[38;5;241m.\u001B[39mbasename(lib_paths[\u001B[38;5;241m0\u001B[39m])\n\u001B[0;32m--> 181\u001B[0m         \u001B[38;5;28;01mraise\u001B[39;00m XGBoostError(\n\u001B[1;32m    182\u001B[0m             \u001B[38;5;124mf\u001B[39m\u001B[38;5;124m\"\"\"\u001B[39m\n\u001B[1;32m    183\u001B[0m \u001B[38;5;124mXGBoost Library (\u001B[39m\u001B[38;5;132;01m{\u001B[39;00mlibname\u001B[38;5;132;01m}\u001B[39;00m\u001B[38;5;124m) could not be loaded.\u001B[39m\n\u001B[1;32m    184\u001B[0m \u001B[38;5;124mLikely causes:\u001B[39m\n\u001B[1;32m    185\u001B[0m \u001B[38;5;124m  * OpenMP runtime is not installed\u001B[39m\n\u001B[1;32m    186\u001B[0m \u001B[38;5;124m    - vcomp140.dll or libgomp-1.dll for Windows\u001B[39m\n\u001B[1;32m    187\u001B[0m \u001B[38;5;124m    - libomp.dylib for Mac OSX\u001B[39m\n\u001B[1;32m    188\u001B[0m \u001B[38;5;124m    - libgomp.so for Linux and other UNIX-like OSes\u001B[39m\n\u001B[1;32m    189\u001B[0m \u001B[38;5;124m    Mac OSX users: Run `brew install libomp` to install OpenMP runtime.\u001B[39m\n\u001B[1;32m    190\u001B[0m \n\u001B[1;32m    191\u001B[0m \u001B[38;5;124m  * You are running 32-bit Python on a 64-bit OS\u001B[39m\n\u001B[1;32m    192\u001B[0m \n\u001B[1;32m    193\u001B[0m \u001B[38;5;124mError message(s): \u001B[39m\u001B[38;5;132;01m{\u001B[39;00mos_error_list\u001B[38;5;132;01m}\u001B[39;00m\n\u001B[1;32m    194\u001B[0m \u001B[38;5;124m\"\"\"\u001B[39m)\n\u001B[1;32m    195\u001B[0m     lib\u001B[38;5;241m.\u001B[39mXGBGetLastError\u001B[38;5;241m.\u001B[39mrestype \u001B[38;5;241m=\u001B[39m ctypes\u001B[38;5;241m.\u001B[39mc_char_p\n\u001B[1;32m    196\u001B[0m     lib\u001B[38;5;241m.\u001B[39mcallback \u001B[38;5;241m=\u001B[39m _get_log_callback_func()\n",
      "\u001B[0;31mXGBoostError\u001B[0m: \nXGBoost Library (libxgboost.dylib) could not be loaded.\nLikely causes:\n  * OpenMP runtime is not installed\n    - vcomp140.dll or libgomp-1.dll for Windows\n    - libomp.dylib for Mac OSX\n    - libgomp.so for Linux and other UNIX-like OSes\n    Mac OSX users: Run `brew install libomp` to install OpenMP runtime.\n\n  * You are running 32-bit Python on a 64-bit OS\n\nError message(s): [\"dlopen(/Users/tom/.conda/envs/pythonProject/lib/python3.10/site-packages/xgboost/lib/libxgboost.dylib, 0x0006): Library not loaded: /usr/local/opt/libomp/lib/libomp.dylib\\n  Referenced from: /Users/tom/.conda/envs/pythonProject/lib/python3.10/site-packages/xgboost/lib/libxgboost.dylib\\n  Reason: tried: '/usr/local/opt/libomp/lib/libomp.dylib' (no such file), '/usr/local/lib/libomp.dylib' (no such file), '/usr/lib/libomp.dylib' (no such file)\"]\n"
     ]
    }
   ],
   "source": [
    "from collections import Counter\n",
    "import numpy as np\n",
    "import pandas as pd\n",
    "from imblearn.datasets import make_imbalance\n",
    "from sklearn import metrics\n",
    "from sklearn.metrics import accuracy_score\n",
    "from sklearn.model_selection import train_test_split\n",
    "from sklearn.feature_extraction.text import CountVectorizer, TfidfTransformer\n",
    "from xgboost import XGBClassifier\n",
    "from sklearn.pipeline import Pipeline\n",
    "import re\n",
    "from langdetect import detect\n",
    "from bs4 import BeautifulSoup"
   ]
  },
  {
   "cell_type": "markdown",
   "id": "fc1a0006",
   "metadata": {},
   "source": [
    "We have two different dataset of financial tweets to train and test our model, one is downloaded from Kaggle, the other is composed by real tweest screaped from tweeter and where we have put the label of the class by hand.\n"
   ]
  },
  {
   "cell_type": "code",
   "execution_count": null,
   "id": "ec786d91",
   "metadata": {},
   "outputs": [],
   "source": [
    "from preprocessing.textCleaner import select_only_keyword, select_only_english, remove_special_char\n",
    "\n",
    "kaggle_tweets = pd.read_csv('./data/tweets_with_sentiment.csv')\n",
    "kaggle_tweets['text'] = kaggle_tweets['text'].astype(str)\n",
    "kaggle_tweets['text'] = kaggle_tweets['text'].str.lower()\n",
    "print(\"Kaggle:\\n\")\n",
    "print(kaggle_tweets)\n",
    "real_tweets = pd.read_json('../data/train/tweetsTSLA_with_label.json')\n",
    "real_tweets = real_tweets.append(pd.read_json('../data/train/tweetsAMZN_with_label.json'), ignore_index=True)\n",
    "real_tweets.drop(columns=['number_follower', 'number_retweets', 'number_likes', 'number_comments', 'datetime', 'username'], inplace=True)\n",
    "real_tweets['text'] = real_tweets['text'].str.lower()\n",
    "real_tweets = select_only_keyword(real_tweets, 'tesla', 'tsla')\n",
    "real_tweets = select_only_english(real_tweets)\n",
    "real_tweets['text'] = real_tweets['text'].apply(remove_special_char)\n",
    "print(\"Real tweets:\\n\")\n",
    "print(real_tweets)"
   ]
  },
  {
   "cell_type": "code",
   "execution_count": null,
   "id": "5a74a22e",
   "metadata": {},
   "outputs": [],
   "source": [
    "from xgboost import XGBClassifier\n",
    "\n",
    "df = kaggle_tweets.append(real_tweets, ignore_index=True)\n",
    "x_train, x_test, y_train, y_test = train_test_split(df['text'], df['target'], test_size=0.2, random_state=11)\n",
    "\n",
    "print(\"Before undersampling: \", Counter(y_train))\n",
    "\n",
    "# Convert x_train to np_array for rebalance\n",
    "x_train = x_train.values.reshape(-1, 1)\n",
    "x_train, y_train = make_imbalance(x_train, y_train,\n",
    "                                  sampling_strategy={'positive': 491, 'neutral': 491, 'negative': 491},\n",
    "                                  random_state=0)\n",
    "\n",
    "# Return to pandas series\n",
    "x_train = pd.Series(np.squeeze(x_train))\n",
    "print(\"After undersampling: \", Counter(y_train))\n",
    "\n",
    "# Pipeline Classifier\n",
    "clf = Pipeline([\n",
    "    ('vect', CountVectorizer()),\n",
    "    ('tfidf', TfidfTransformer()),\n",
    "    ('clf', XGBClassifier())   # XGBClassifier è il migliore in acc ma basso positive recall\n",
    "    # Random Forest Classifier, Logistic Regression e SVC sono buoni (0.75 acc)\n",
    "    # MultinomialNB e BernoulliNB meno buoni (0.67 acc)\n",
    "])\n",
    "\n",
    "# Training the Pipeline Classifier\n",
    "clf.fit(x_train, y_train)\n",
    "\n",
    "#Testing of the Pipeline\n",
    "predicted = clf.predict(x_test)\n",
    "\n",
    "#Extracting statistics and metrics\n",
    "accuracy = accuracy_score(predicted, y_test)\n",
    "print(\"Accuracy on test set: \", accuracy)\n",
    "print(\"Metrics per class on test set:\")\n",
    "\n",
    "print(\"Confusion matrix:\")\n",
    "metrics.confusion_matrix(y_test, predicted)\n",
    "\n",
    "print(metrics.classification_report(y_test, predicted, target_names=[\"positive\", \"neutral\", \"negative\"]))\n",
    "\n",
    "# Save the classifier\n",
    "#joblib.dump(clf, 'sentiment_classifier.pkl')\n"
   ]
  }
 ],
 "metadata": {
  "kernelspec": {
   "display_name": "Python 3 (ipykernel)",
   "language": "python",
   "name": "python3"
  },
  "language_info": {
   "codemirror_mode": {
    "name": "ipython",
    "version": 3
   },
   "file_extension": ".py",
   "mimetype": "text/x-python",
   "name": "python",
   "nbconvert_exporter": "python",
   "pygments_lexer": "ipython3",
   "version": "3.10.0"
  }
 },
 "nbformat": 4,
 "nbformat_minor": 5
}