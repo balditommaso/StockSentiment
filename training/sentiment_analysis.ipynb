{
 "cells": [
  {
   "cell_type": "markdown",
   "id": "beaed3b0",
   "metadata": {},
   "source": [
    "# Sentiment Analysis\n",
    "\n",
    "In this notebook we will show how we build a model to give a polarity to the tweets\n",
    "which contains about famous comapany"
   ]
  },
  {
   "cell_type": "code",
   "execution_count": 3,
   "id": "9ade0884",
   "metadata": {},
   "outputs": [],
   "source": [
    "import os\n",
    "import sys\n",
    "module_path = os.path.abspath(os.path.join('..'))\n",
    "if module_path not in sys.path:\n",
    "    sys.path.append(module_path)\n",
    "    \n",
    "import joblib\n",
    "from collections import Counter\n",
    "import numpy as np\n",
    "import pandas as pd\n",
    "from imblearn.datasets import make_imbalance\n",
    "from sklearn import metrics\n",
    "from sklearn.metrics import accuracy_score\n",
    "from sklearn.model_selection import train_test_split\n",
    "from sklearn.feature_extraction.text import CountVectorizer, TfidfTransformer\n",
    "from xgboost import XGBClassifier\n",
    "from sklearn.pipeline import Pipeline\n",
    "import re\n",
    "from langdetect import detect\n",
    "from bs4 import BeautifulSoup"
   ]
  },
  {
   "cell_type": "markdown",
   "id": "fc1a0006",
   "metadata": {},
   "source": [
    "We have two different dataset of financial tweets to train and test our model, one is downloaded from Kaggle, the other is composed by real tweest screaped from tweeter and where we have put the label of the class by hand.\n"
   ]
  },
  {
   "cell_type": "code",
   "execution_count": 4,
   "id": "ec786d91",
   "metadata": {},
   "outputs": [
    {
     "data": {
      "text/plain": "                                                    text    target\n0      video offic mind busi david solomon tell gs in...   neutral\n1      price lumber lb f sinc hit ytd high maci turna...   neutral\n2                                say american dream dead  negative\n3      barri silbert extrem optimist bitcoin predict ...  positive\n4      satellit avoid attack space junk circl earth paid  negative\n...                                                  ...       ...\n28435                                    fb c f f cb ecf   neutral\n28436                                                btc   neutral\n28437  rt hd nuff said tel telcoin telfam crypto bloc...   neutral\n28438                                                btc   neutral\n28439   stellar xlm price binanc registr open limit time   neutral\n\n[28440 rows x 2 columns]",
      "text/html": "<div>\n<style scoped>\n    .dataframe tbody tr th:only-of-type {\n        vertical-align: middle;\n    }\n\n    .dataframe tbody tr th {\n        vertical-align: top;\n    }\n\n    .dataframe thead th {\n        text-align: right;\n    }\n</style>\n<table border=\"1\" class=\"dataframe\">\n  <thead>\n    <tr style=\"text-align: right;\">\n      <th></th>\n      <th>text</th>\n      <th>target</th>\n    </tr>\n  </thead>\n  <tbody>\n    <tr>\n      <th>0</th>\n      <td>video offic mind busi david solomon tell gs in...</td>\n      <td>neutral</td>\n    </tr>\n    <tr>\n      <th>1</th>\n      <td>price lumber lb f sinc hit ytd high maci turna...</td>\n      <td>neutral</td>\n    </tr>\n    <tr>\n      <th>2</th>\n      <td>say american dream dead</td>\n      <td>negative</td>\n    </tr>\n    <tr>\n      <th>3</th>\n      <td>barri silbert extrem optimist bitcoin predict ...</td>\n      <td>positive</td>\n    </tr>\n    <tr>\n      <th>4</th>\n      <td>satellit avoid attack space junk circl earth paid</td>\n      <td>negative</td>\n    </tr>\n    <tr>\n      <th>...</th>\n      <td>...</td>\n      <td>...</td>\n    </tr>\n    <tr>\n      <th>28435</th>\n      <td>fb c f f cb ecf</td>\n      <td>neutral</td>\n    </tr>\n    <tr>\n      <th>28436</th>\n      <td>btc</td>\n      <td>neutral</td>\n    </tr>\n    <tr>\n      <th>28437</th>\n      <td>rt hd nuff said tel telcoin telfam crypto bloc...</td>\n      <td>neutral</td>\n    </tr>\n    <tr>\n      <th>28438</th>\n      <td>btc</td>\n      <td>neutral</td>\n    </tr>\n    <tr>\n      <th>28439</th>\n      <td>stellar xlm price binanc registr open limit time</td>\n      <td>neutral</td>\n    </tr>\n  </tbody>\n</table>\n<p>28440 rows × 2 columns</p>\n</div>"
     },
     "execution_count": 4,
     "metadata": {},
     "output_type": "execute_result"
    }
   ],
   "source": [
    " # from preprocessing.textCleaner import select_only_keyword, select_only_english, remove_special_char\n",
    "\n",
    "\n",
    "train_data = pd.read_csv('./data/tweets_with_sentiment.csv')\n",
    "train_data['text'] = train_data['text'].astype(str)\n",
    "train_data['text'] = train_data['text'].str.lower()\n",
    "\n",
    "\n",
    "real_tweets = pd.read_json('../data/train/tweetsAMZN_with_label.json')\n",
    "#real_tweets = real_tweets.append(pd.read_json('../data/train/tweetsAMZN_with_label.json'), ignore_index=True)\n",
    "real_tweets.drop(columns=['number_follower', 'number_retweets', 'number_likes', 'number_comments', 'datetime', 'username'], inplace=True)\n",
    "\n",
    "\n",
    "train_data['text'] = train_data['text'].str.lower()\n",
    "#train_data = select_only_keyword(real_tweets, 'tesla', 'tsla')\n",
    "#train_data = select_only_english(real_tweets)\n",
    "#train_data['text'] = train_data['text'].apply(remove_special_char)\n",
    "\n",
    "train_data"
   ]
  },
  {
   "cell_type": "code",
   "execution_count": 5,
   "id": "5a74a22e",
   "metadata": {},
   "outputs": [
    {
     "name": "stdout",
     "output_type": "stream",
     "text": [
      "Before undersampling:  Counter({'neutral': 13883, 'positive': 6785, 'negative': 2084})\n",
      "After undersampling:  Counter({'neutral': 13883, 'positive': 6785, 'negative': 2084})\n"
     ]
    },
    {
     "name": "stderr",
     "output_type": "stream",
     "text": [
      "/Users/tom/.conda/envs/pythonProject/lib/python3.10/site-packages/xgboost/sklearn.py:1224: UserWarning: The use of label encoder in XGBClassifier is deprecated and will be removed in a future release. To remove this warning, do the following: 1) Pass option use_label_encoder=False when constructing XGBClassifier object; and 2) Encode your labels (y) as integers starting with 0, i.e. 0, 1, 2, ..., [num_class - 1].\n",
      "  warnings.warn(label_encoder_deprecation_msg, UserWarning)\n"
     ]
    },
    {
     "name": "stdout",
     "output_type": "stream",
     "text": [
      "[12:52:53] WARNING: /Users/runner/miniforge3/conda-bld/xgboost-split_1637426408905/work/src/learner.cc:1115: Starting in XGBoost 1.3.0, the default evaluation metric used with the objective 'multi:softprob' was changed from 'merror' to 'mlogloss'. Explicitly set eval_metric if you'd like to restore the old behavior.\n",
      "[12:52:57] WARNING: /Users/runner/miniforge3/conda-bld/xgboost-split_1637426408905/work/src/learner.cc:1115: Starting in XGBoost 1.3.0, the default evaluation metric used with the objective 'multi:softprob' was changed from 'merror' to 'mlogloss'. Explicitly set eval_metric if you'd like to restore the old behavior.\n",
      "0        trade idea mpc realli like one reason free tra...\n",
      "1                      citrix system ctx set new year high\n",
      "2        rt kirillklip gem royalti tnrgold tnr v strate...\n",
      "3                                               rt twitter\n",
      "4                          inci incyt corpor sec file form\n",
      "                               ...                        \n",
      "22747    problem list fix reston center north destroy b...\n",
      "22748    arthur j gallagh amp co ajg stock rate reaffir...\n",
      "22749         xl group xl upgrad zack invest research hold\n",
      "22750    cdix news stng f dal uvxi bbd fcx msft iq pfe ...\n",
      "22751                hcp inc hcp go burn institut investor\n",
      "Length: 22752, dtype: object\n",
      "Accuracy on test set:  0.9657172995780591\n",
      "Metrics per class on test set:\n",
      "Confusion matrix:\n",
      "              precision    recall  f1-score   support\n",
      "\n",
      "    negative       0.95      0.84      0.89       514\n",
      "     neutral       0.96      0.99      0.97      3447\n",
      "    positive       0.99      0.95      0.97      1727\n",
      "\n",
      "    accuracy                           0.97      5688\n",
      "   macro avg       0.97      0.93      0.95      5688\n",
      "weighted avg       0.97      0.97      0.97      5688\n",
      "\n"
     ]
    }
   ],
   "source": [
    "from xgboost import XGBClassifier\n",
    "\n",
    "\n",
    "#finbert_training_data = finbert.get_data()\n",
    "x_train, x_test, y_train, y_test = train_test_split(train_data['text'], train_data['target'], test_size=0.2, random_state=11)\n",
    "\n",
    "print(\"Before undersampling: \", Counter(y_train))\n",
    "\n",
    "# Convert x_train to np_array for rebalance\n",
    "x_train = x_train.values.reshape(-1, 1)\n",
    "#x_train, y_train = make_imbalance(x_train, y_train,\n",
    " #                                 sampling_strategy={'positive': 2000, 'neutral': 2000, 'negative': 2000},\n",
    "  #                                random_state=0)\n",
    "\n",
    "# Return to pandas series\n",
    "x_train = pd.Series(np.squeeze(x_train))\n",
    "print(\"After undersampling: \", Counter(y_train))\n",
    "\n",
    "# Pipeline Classifier\n",
    "clf = Pipeline([\n",
    "    ('vect', CountVectorizer()),\n",
    "    ('tfidf', TfidfTransformer()),\n",
    "    ('clf', XGBClassifier())   # XGBClassifier è il migliore in acc ma basso positive recall\n",
    "    # Random Forest Classifier, Logistic Regression e SVC sono buoni (0.75 acc)\n",
    "    # MultinomialNB e BernoulliNB meno buoni (0.67 acc)\n",
    "])\n",
    "\n",
    "# Training the Pipeline Classifier\n",
    "clf.fit(x_train, y_train)\n",
    "\n",
    "clf.fit(train_data['text'], train_data['target'])\n",
    "print(x_train)\n",
    "\n",
    "\n",
    "#Testing of the Pipeline\n",
    "predicted = clf.predict(x_test)\n",
    "\n",
    "#Extracting statistics and metrics\n",
    "accuracy = accuracy_score(predicted, y_test)\n",
    "print(\"Accuracy on test set: \", accuracy)\n",
    "print(\"Metrics per class on test set:\")\n",
    "\n",
    "print(\"Confusion matrix:\")\n",
    "metrics.confusion_matrix(y_test, predicted)\n",
    "\n",
    "print(metrics.classification_report(y_test, predicted, target_names=[\"negative\", \"neutral\", \"positive\"]))"
   ]
  },
  {
   "cell_type": "code",
   "execution_count": 6,
   "id": "21248433",
   "metadata": {},
   "outputs": [
    {
     "data": {
      "text/plain": "['../model/sentiment_classifier.pkl']"
     },
     "execution_count": 6,
     "metadata": {},
     "output_type": "execute_result"
    }
   ],
   "source": [
    "# Save the classifier\n",
    "joblib.dump(clf, '../model/sentiment_classifier.pkl')"
   ]
  },
  {
   "cell_type": "code",
   "execution_count": 7,
   "id": "ff52413f",
   "metadata": {},
   "outputs": [
    {
     "name": "stdout",
     "output_type": "stream",
     "text": [
      "['positive']\n"
     ]
    }
   ],
   "source": [
    "clf = joblib.load('../model/sentiment_classifier.pkl')\n",
    "my_list = [\n",
    "\"Enameled Cast Iron Shallow Casserole Braiser Pan with Cover, 3.8-Quart, Marine Blue. Deals going from $42.49 to $59.49. Offer ends in 6 day(s) 23 hour(s) 39 minute(s) 4 second(s). Deal type: Best Deal. https://t.co/OZ9xjvg4Gm\"\n",
    "\n",
    "]\n",
    "arr = np.asarray(my_list)\n",
    "arr.reshape(-1, 1)\n",
    "# Use model to make predictions\n",
    "y_pred = clf.predict(arr)\n",
    "print(y_pred)"
   ]
  },
  {
   "cell_type": "code",
   "execution_count": 8,
   "id": "e50cae70",
   "metadata": {},
   "outputs": [
    {
     "name": "stdout",
     "output_type": "stream",
     "text": [
      "Before undersampling:  Counter({'neutral': 566, 'positive': 143, 'negative': 50})\n",
      "Accuracy on test set:  0.758893280632411\n",
      "Metrics per class on test set:\n",
      "Confusion matrix:\n",
      "              precision    recall  f1-score   support\n",
      "\n",
      "    negative       0.71      0.74      0.73        50\n",
      "     neutral       0.95      0.73      0.83       566\n",
      "    positive       0.46      0.87      0.60       143\n",
      "\n",
      "    accuracy                           0.76       759\n",
      "   macro avg       0.71      0.78      0.72       759\n",
      "weighted avg       0.84      0.76      0.78       759\n",
      "\n"
     ]
    }
   ],
   "source": [
    "clf = joblib.load('../model/sentiment_classifier.pkl')\n",
    "\n",
    "\n",
    "#Testing with real tweets\n",
    "real_tweets = pd.read_json('../data/train/tweets_with_label.json')\n",
    "print(\"Before undersampling: \", Counter(real_tweets['target']))\n",
    "\n",
    "# Predicting\n",
    "predicted = clf.predict(real_tweets['text'].values)\n",
    "\n",
    "#for i in range(len(predicted)-20,len(predicted)):\n",
    " #   print(\"Predicted: \", predicted[i], \" \\tReal: \",  real_tweets['target'].values[i])\n",
    "\n",
    "#Extracting statistics and metrics\n",
    "accuracy = accuracy_score(real_tweets['target'], predicted)\n",
    "print(\"Accuracy on test set: \", accuracy)\n",
    "print(\"Metrics per class on test set:\")\n",
    "\n",
    "print(\"Confusion matrix:\")\n",
    "metrics.confusion_matrix(real_tweets['target'].values, predicted)\n",
    "\n",
    "print(metrics.classification_report(real_tweets['target'].values, predicted, target_names=[\"negative\", \"neutral\", \"positive\"]))"
   ]
  },
  {
   "cell_type": "code",
   "execution_count": 8,
   "id": "0a96eb98",
   "metadata": {},
   "outputs": [],
   "source": []
  },
  {
   "cell_type": "code",
   "execution_count": 8,
   "id": "0f3d659e",
   "metadata": {},
   "outputs": [],
   "source": []
  }
 ],
 "metadata": {
  "kernelspec": {
   "display_name": "Python 3 (ipykernel)",
   "language": "python",
   "name": "python3"
  },
  "language_info": {
   "codemirror_mode": {
    "name": "ipython",
    "version": 3
   },
   "file_extension": ".py",
   "mimetype": "text/x-python",
   "name": "python",
   "nbconvert_exporter": "python",
   "pygments_lexer": "ipython3",
   "version": "3.10.0"
  }
 },
 "nbformat": 4,
 "nbformat_minor": 5
}